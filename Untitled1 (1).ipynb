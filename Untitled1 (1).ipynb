{
 "cells": [
  {
   "cell_type": "code",
   "execution_count": 1,
   "id": "8e6e6cae",
   "metadata": {},
   "outputs": [
    {
     "ename": "KeyboardInterrupt",
     "evalue": "",
     "output_type": "error",
     "traceback": [
      "\u001b[0;31m---------------------------------------------------------------------------\u001b[0m",
      "\u001b[0;31mKeyboardInterrupt\u001b[0m                         Traceback (most recent call last)",
      "Input \u001b[0;32mIn [1]\u001b[0m, in \u001b[0;36m<cell line: 42>\u001b[0;34m()\u001b[0m\n\u001b[1;32m     40\u001b[0m                 j \u001b[38;5;241m=\u001b[39m base\u001b[38;5;241m+\u001b[39mInteger(\u001b[38;5;241m1\u001b[39m)\n\u001b[1;32m     41\u001b[0m     \u001b[38;5;28mprint\u001b[39m(\u001b[38;5;124m\"\u001b[39m\u001b[38;5;124mall done\u001b[39m\u001b[38;5;124m\"\u001b[39m)\n\u001b[0;32m---> 42\u001b[0m \u001b[43moptimized\u001b[49m\u001b[43m(\u001b[49m\u001b[43mInteger\u001b[49m\u001b[43m(\u001b[49m\u001b[38;5;241;43m10\u001b[39;49m\u001b[43m)\u001b[49m\u001b[38;5;241;43m*\u001b[39;49m\u001b[38;5;241;43m*\u001b[39;49m\u001b[43mInteger\u001b[49m\u001b[43m(\u001b[49m\u001b[38;5;241;43m6\u001b[39;49m\u001b[43m)\u001b[49m\u001b[43m)\u001b[49m\n",
      "Input \u001b[0;32mIn [1]\u001b[0m, in \u001b[0;36moptimized\u001b[0;34m(x)\u001b[0m\n\u001b[1;32m     22\u001b[0m \u001b[38;5;66;03m#dr. z's optimized lower bound\u001b[39;00m\n\u001b[1;32m     23\u001b[0m         \u001b[38;5;28;01mif\u001b[39;00m maxcheck \u001b[38;5;241m>\u001b[39m Integer(\u001b[38;5;241m2\u001b[39m)\u001b[38;5;241m*\u001b[39mrootn \u001b[38;5;241m-\u001b[39mInteger(\u001b[38;5;241m1\u001b[39m):\n\u001b[0;32m---> 24\u001b[0m             nFactorSums \u001b[38;5;241m=\u001b[39m \u001b[43mfactorSums\u001b[49m\u001b[43m \u001b[49m\u001b[43m(\u001b[49m\u001b[43mn\u001b[49m\u001b[43m)\u001b[49m\n\u001b[1;32m     25\u001b[0m \u001b[38;5;66;03m#             print(nFactorSums)\u001b[39;00m\n\u001b[1;32m     26\u001b[0m             length \u001b[38;5;241m=\u001b[39m \u001b[38;5;28mlen\u001b[39m (nFactorSums[Integer(\u001b[38;5;241m0\u001b[39m)])\n",
      "Input \u001b[0;32mIn [1]\u001b[0m, in \u001b[0;36mfactorSums\u001b[0;34m(k)\u001b[0m\n\u001b[1;32m      9\u001b[0m factorList \u001b[38;5;241m=\u001b[39m []\n\u001b[1;32m     10\u001b[0m \u001b[38;5;28;01mfor\u001b[39;00m i \u001b[38;5;129;01min\u001b[39;00m \u001b[38;5;28mrange\u001b[39m (Integer(\u001b[38;5;241m1\u001b[39m), \u001b[38;5;28mint\u001b[39m(sqrt(k))\u001b[38;5;241m+\u001b[39mInteger(\u001b[38;5;241m1\u001b[39m)):\n\u001b[0;32m---> 11\u001b[0m     \u001b[38;5;28;01mif\u001b[39;00m (k\u001b[38;5;241m%\u001b[39mi \u001b[38;5;241m==\u001b[39m \u001b[43mInteger\u001b[49m\u001b[43m(\u001b[49m\u001b[38;5;241;43m0\u001b[39;49m\u001b[43m)\u001b[49m):\n\u001b[1;32m     12\u001b[0m         factorSumList\u001b[38;5;241m.\u001b[39mappend(i\u001b[38;5;241m+\u001b[39m(k\u001b[38;5;241m/\u001b[39mi))\n\u001b[1;32m     13\u001b[0m         factorList\u001b[38;5;241m.\u001b[39mappend(i)\n",
      "File \u001b[0;32msrc/cysignals/signals.pyx:310\u001b[0m, in \u001b[0;36mcysignals.signals.python_check_interrupt\u001b[0;34m()\u001b[0m\n",
      "\u001b[0;31mKeyboardInterrupt\u001b[0m: "
     ]
    }
   ],
   "source": [
    "import csv\n",
    "with open('newfouralgorithm.csv', 'w') as newalgorithm:\n",
    "    writer = csv.writer(newalgorithm)\n",
    "    writer.writerow(('n','sig','d_1','d_2', 'd_3', 'd_4'))\n",
    "                    \n",
    "        \n",
    "def factorSums(k):\n",
    "    factorSumList = []\n",
    "    factorList = []\n",
    "    for i in range (1, int(sqrt(k))+1):\n",
    "        if (k%i == 0):\n",
    "            factorSumList.append(i+(k/i))\n",
    "            factorList.append(i)\n",
    "            factorList.append(k/i)\n",
    "    return factorSumList, factorList\n",
    "\n",
    "def optimized(x):\n",
    "    for n in range (1,x+1):\n",
    "        sig = sigma(n)\n",
    "        maxcheck = sig - 2*n\n",
    "        rootn=int(math.sqrt(n))\n",
    "#dr. z's optimized lower bound\n",
    "        if maxcheck > 2*rootn -1:\n",
    "            nFactorSums = factorSums (n)\n",
    "#             print(nFactorSums)\n",
    "            length = len (nFactorSums[0])\n",
    "#             print (nFactorSums, n, length)\n",
    "            j = 1\n",
    "            base = 0\n",
    "            for d in range (base, length-1):\n",
    "                for u in range (j, length):\n",
    "                    sum = nFactorSums[0][d] + nFactorSums[0][u]\n",
    "                    if (sum == maxcheck and nFactorSums[0][d]!=nFactorSums[0][u]):\n",
    "                        with open('newfouralgorithm.csv', 'a') as newalgorithm:\n",
    "                            writer = csv.writer(newalgorithm)\n",
    "                            writer.writerow((n,sig,nFactorSums[1][(2*d)], nFactorSums[1][(2*d)+1], nFactorSums[1][(2*u)], nFactorSums[1][(2*u)+1]))\n",
    "                    j += 1\n",
    "#                     print (sum, maxcheck, n)\n",
    "                base += 1\n",
    "                j = base+1\n",
    "    print(\"all done\")\n",
    "optimized(10^6)"
   ]
  },
  {
   "cell_type": "code",
   "execution_count": null,
   "id": "90606419",
   "metadata": {},
   "outputs": [],
   "source": []
  }
 ],
 "metadata": {
  "kernelspec": {
   "display_name": "SageMath 9.7",
   "language": "sage",
   "name": "sagemath-9.7"
  },
  "language_info": {
   "codemirror_mode": {
    "name": "ipython",
    "version": 3
   },
   "file_extension": ".py",
   "mimetype": "text/x-python",
   "name": "python",
   "nbconvert_exporter": "python",
   "pygments_lexer": "ipython3",
   "version": "3.10.5"
  }
 },
 "nbformat": 4,
 "nbformat_minor": 5
}
