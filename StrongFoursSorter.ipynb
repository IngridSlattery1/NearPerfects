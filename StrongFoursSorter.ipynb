{
 "cells": [
  {
   "cell_type": "code",
   "execution_count": 39,
   "id": "49aaa183",
   "metadata": {},
   "outputs": [
    {
     "data": {
      "text/html": [
       "<div>\n",
       "<style scoped>\n",
       "    .dataframe tbody tr th:only-of-type {\n",
       "        vertical-align: middle;\n",
       "    }\n",
       "\n",
       "    .dataframe tbody tr th {\n",
       "        vertical-align: top;\n",
       "    }\n",
       "\n",
       "    .dataframe thead th {\n",
       "        text-align: right;\n",
       "    }\n",
       "</style>\n",
       "<table border=\"1\" class=\"dataframe\">\n",
       "  <thead>\n",
       "    <tr style=\"text-align: right;\">\n",
       "      <th></th>\n",
       "      <th>n</th>\n",
       "      <th>sig</th>\n",
       "      <th>d_1</th>\n",
       "      <th>d_2</th>\n",
       "      <th>d_3</th>\n",
       "      <th>d_4</th>\n",
       "    </tr>\n",
       "  </thead>\n",
       "  <tbody>\n",
       "    <tr>\n",
       "      <th>0</th>\n",
       "      <td>216</td>\n",
       "      <td>600</td>\n",
       "      <td>2</td>\n",
       "      <td>108</td>\n",
       "      <td>4</td>\n",
       "      <td>54</td>\n",
       "    </tr>\n",
       "    <tr>\n",
       "      <th>1</th>\n",
       "      <td>11776</td>\n",
       "      <td>24552</td>\n",
       "      <td>16</td>\n",
       "      <td>736</td>\n",
       "      <td>64</td>\n",
       "      <td>184</td>\n",
       "    </tr>\n",
       "  </tbody>\n",
       "</table>\n",
       "</div>"
      ],
      "text/plain": [
       "       n    sig  d_1  d_2  d_3  d_4\n",
       "0    216    600    2  108    4   54\n",
       "1  11776  24552   16  736   64  184"
      ]
     },
     "execution_count": 39,
     "metadata": {},
     "output_type": "execute_result"
    }
   ],
   "source": [
    "import csv\n",
    "with open(\"fournearperfs.csv\", 'r') as FNP:\n",
    "  csvreader = csv.reader(FNP)\n",
    "import pandas as pd\n",
    "full_list=pd.read_csv(\"fournearperfs.csv\")\n",
    "\n",
    "with open('FNPsort.csv', 'w') as FNPsort:\n",
    "    FNPsortwriter = csv.writer(FNPsort)\n",
    "    FNPsortwriter.writerow(('n','sig','d_1','d_2','d_3','d_4'))\n",
    "#This tests just that n is of from 2^k*p^m...I'm not even sure that it works tho\n",
    "def form(n):\n",
    "    F=factor(n)\n",
    "    if len(list(F))<3 and n%2==0:\n",
    "        return True\n",
    "def check(rr):\n",
    "    if form(rr['n'])==True:\n",
    "        with open('FNPsort.csv', 'a') as FNPsort:\n",
    "            FNPsortwriter = csv.writer(FNPsort)\n",
    "            FNPsortwriter.writerow(rr)\n",
    "        return true\n",
    "    else:\n",
    "        return false\n",
    "        \n",
    "full_list['check']=full_list.apply(check,axis=1)\n",
    "\n",
    "sort_list=pd.read_csv(\"FNPsort.csv\")\n",
    "sort_list"
   ]
  },
  {
   "cell_type": "code",
   "execution_count": null,
   "id": "e73c9ead",
   "metadata": {},
   "outputs": [],
   "source": []
  }
 ],
 "metadata": {
  "kernelspec": {
   "display_name": "SageMath 9.8",
   "language": "sage",
   "name": "sagemath-9.8"
  },
  "language_info": {
   "codemirror_mode": {
    "name": "ipython",
    "version": 3
   },
   "file_extension": ".py",
   "mimetype": "text/x-python",
   "name": "python",
   "nbconvert_exporter": "python",
   "pygments_lexer": "ipython3",
   "version": "3.11.1"
  }
 },
 "nbformat": 4,
 "nbformat_minor": 5
}
