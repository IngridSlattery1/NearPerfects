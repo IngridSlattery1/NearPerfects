{
 "cells": [
  {
   "cell_type": "code",
   "execution_count": 19,
   "id": "a278057c",
   "metadata": {},
   "outputs": [
    {
     "name": "stdout",
     "output_type": "stream",
     "text": [
      "all done\n"
     ]
    }
   ],
   "source": [
    "import csv\n",
    "with open('fournearperfs.csv', 'w') as fournearperfs:\n",
    "    writer = csv.writer(fournearperfs)\n",
    "    writer.writerow(('n','sig','d_1','d_2','d_3','d_4'))\n",
    "                    \n",
    "def four_finder(x):\n",
    "    for n in range (1,x+1):\n",
    "        sig = sigma(n)\n",
    "        maxcheck = sig - 2*n\n",
    "        if maxcheck>1:\n",
    "            for d_1 in range (1, int(sqrt(n)+1)):\n",
    "                if (n%d_1==0):\n",
    "                    d_2=int(n/d_1)\n",
    "                    if d_1!=d_2:\n",
    "                        maxcheck2=maxcheck-d_1-d_2\n",
    "                        upperBound = min(int(maxcheck2/2)+1, int(sqrt(n))+1)\n",
    "                        for d_3 in range (d_1+1, upperBound):\n",
    "                            if (n%d_3==0) and d_3!=d_2:\n",
    "                                d_4=int(n/d_3)\n",
    "                                if  d_3!=d_4 and d_1+d_2+d_3+d_4==maxcheck:\n",
    "                                    with open('fournearperfs.csv', 'a') as fournearperfs:\n",
    "                                        writer = csv.writer(fournearperfs)\n",
    "                                        writer.writerow((n,sig,d_1,d_2,d_3,d_4))\n",
    "    print(\"all done\")\n",
    "four_finder(10^6)"
   ]
  },
  {
   "cell_type": "code",
   "execution_count": null,
   "id": "ed49c7a6",
   "metadata": {},
   "outputs": [],
   "source": []
  },
  {
   "cell_type": "code",
   "execution_count": null,
   "id": "a8398dd5",
   "metadata": {},
   "outputs": [],
   "source": []
  }
 ],
 "metadata": {
  "kernelspec": {
   "display_name": "SageMath 9.8",
   "language": "sage",
   "name": "sagemath-9.8"
  },
  "language_info": {
   "codemirror_mode": {
    "name": "ipython",
    "version": 3
   },
   "file_extension": ".py",
   "mimetype": "text/x-python",
   "name": "python",
   "nbconvert_exporter": "python",
   "pygments_lexer": "ipython3",
   "version": "3.11.1"
  }
 },
 "nbformat": 4,
 "nbformat_minor": 5
}
