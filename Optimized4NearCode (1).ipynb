{
 "cells": [
  {
   "cell_type": "code",
   "execution_count": 1,
   "id": "8e6e6cae",
   "metadata": {},
   "outputs": [
    {
     "name": "stdout",
     "output_type": "stream",
     "text": [
      "all done\n"
     ]
    }
   ],
   "source": [
    "import csv\n",
    "with open('newfouralgorithm.csv', 'w') as newalgorithm:\n",
    "    writer = csv.writer(newalgorithm)\n",
    "    writer.writerow(('n','sig','d_1','d_2', 'd_3', 'd_4'))\n",
    "                    \n",
    "        \n",
    "def factorSums(k):\n",
    "    factorSumList = []\n",
    "    factorList = []\n",
    "    for i in range (1, int(sqrt(k))+1):\n",
    "        if (k%i == 0):\n",
    "            factorSumList.append(i+(k/i))\n",
    "            factorList.append(i)\n",
    "            factorList.append(k/i)\n",
    "    return factorSumList, factorList\n",
    "\n",
    "def optimized(x):\n",
    "    for n in range (1,x+1):\n",
    "        sig = sigma(n)\n",
    "        maxcheck = sig - 2*n\n",
    "        rootn=int(math.sqrt(n))\n",
    "#dr. z's optimized lower bound\n",
    "        if maxcheck > 2*rootn -1:\n",
    "            nFactorSums = factorSums (n)\n",
    "#             print(nFactorSums)\n",
    "            length = len (nFactorSums[0])\n",
    "#             print (nFactorSums, n, length)\n",
    "            j = 1\n",
    "            base = 0\n",
    "            for d in range (base, length-1):\n",
    "                for u in range (j, length):\n",
    "                    sum = nFactorSums[0][d] + nFactorSums[0][u]\n",
    "                    if (sum == maxcheck and nFactorSums[0][d]!=nFactorSums[0][u]):\n",
    "                        with open('newfouralgorithm.csv', 'a') as newalgorithm:\n",
    "                            writer = csv.writer(newalgorithm)\n",
    "                            writer.writerow((n,sig,nFactorSums[1][(2*d)], nFactorSums[1][(2*d)+1], nFactorSums[1][(2*u)], nFactorSums[1][(2*u)+1]))\n",
    "                    j += 1\n",
    "#                     print (sum, maxcheck, n)\n",
    "                base += 1\n",
    "                j = base+1\n",
    "    print(\"all done\")\n",
    "optimized(10^6)"
   ]
  },
  {
   "cell_type": "code",
   "execution_count": null,
   "id": "90606419",
   "metadata": {},
   "outputs": [],
   "source": []
  }
 ],
 "metadata": {
  "kernelspec": {
   "display_name": "SageMath 9.7",
   "language": "sage",
   "name": "sagemath-9.7"
  },
  "language_info": {
   "codemirror_mode": {
    "name": "ipython",
    "version": 3
   },
   "file_extension": ".py",
   "mimetype": "text/x-python",
   "name": "python",
   "nbconvert_exporter": "python",
   "pygments_lexer": "ipython3",
   "version": "3.10.5"
  }
 },
 "nbformat": 4,
 "nbformat_minor": 5
}
